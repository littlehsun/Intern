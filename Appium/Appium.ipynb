{
 "cells": [
  {
   "cell_type": "code",
   "execution_count": 78,
   "metadata": {
    "collapsed": false
   },
   "outputs": [],
   "source": [
    "from appium import webdriver\n",
    "from time import sleep"
   ]
  },
  {
   "cell_type": "markdown",
   "metadata": {},
   "source": [
    "### 下載apk"
   ]
  },
  {
   "cell_type": "code",
   "execution_count": 12,
   "metadata": {
    "collapsed": false
   },
   "outputs": [],
   "source": [
    "!rm *.apk\n",
    "!scp user@192.168.48.61:/home/user/android_apk/*/*-online-release.apk .\n",
    "!mv *.apk etnews.apk"
   ]
  },
  {
   "cell_type": "markdown",
   "metadata": {},
   "source": [
    "### 取得手機參數"
   ]
  },
  {
   "cell_type": "code",
   "execution_count": 65,
   "metadata": {
    "collapsed": false
   },
   "outputs": [],
   "source": [
    "#device_name\n",
    "d= !adb devices\n",
    "d= d[1]\n",
    "device=\"\"\n",
    "for i in d:\n",
    "    if i == \"\\t\":\n",
    "        break\n",
    "    device = device + i"
   ]
  },
  {
   "cell_type": "code",
   "execution_count": 67,
   "metadata": {
    "collapsed": false
   },
   "outputs": [],
   "source": [
    "#version\n",
    "version = !adb shell getprop ro.build.version.release"
   ]
  },
  {
   "cell_type": "markdown",
   "metadata": {
    "collapsed": true
   },
   "source": [
    "###  設定參數"
   ]
  },
  {
   "cell_type": "code",
   "execution_count": 69,
   "metadata": {
    "collapsed": true
   },
   "outputs": [],
   "source": [
    "desired_caps = {}\n",
    "desired_caps[\"platformName\"] = \"Android\"\n",
    "desired_caps[\"platformVersion\"] = version[0]\n",
    "desired_caps[\"deviceName\"] = device\n",
    "desired_caps[\"appPackage\"] = \"net.ettoday.phone\"\n",
    "desired_caps[\"appActivity\"] = \"net.ettoday.phone.Main\"\n",
    "#desired_caps[\"app\"] = \"C:/Users/ettoday/Desktop/apk/online-release.apk\"\n",
    "desired_caps[\"app\"] = \"C:/Users/ettoday/Desktop/jupyter/etnews.apk\""
   ]
  },
  {
   "cell_type": "markdown",
   "metadata": {},
   "source": [
    "### 開始測試"
   ]
  },
  {
   "cell_type": "code",
   "execution_count": 72,
   "metadata": {
    "collapsed": false
   },
   "outputs": [],
   "source": [
    "driver = webdriver.Remote('http://localhost:9487/wd/hub', desired_caps)"
   ]
  },
  {
   "cell_type": "code",
   "execution_count": 73,
   "metadata": {
    "collapsed": false
   },
   "outputs": [],
   "source": [
    "#允許\n",
    "driver.find_element_by_id('com.android.packageinstaller:id/permission_allow_button').click()\n",
    "#拒絕\n",
    "#driver.find_element_by_id('com.android.packageinstaller:id/permission_deny_button').click()"
   ]
  },
  {
   "cell_type": "code",
   "execution_count": 74,
   "metadata": {
    "collapsed": true
   },
   "outputs": [],
   "source": [
    "#立即登入\n",
    "driver.find_element_by_id('net.ettoday.phone:id/login_btn').click()\n",
    "#下次再說\n",
    "#driver.find_element_by_id('net.ettoday.phone:id/skip_btn').click()"
   ]
  },
  {
   "cell_type": "code",
   "execution_count": 75,
   "metadata": {
    "collapsed": false
   },
   "outputs": [
    {
     "name": "stdout",
     "output_type": "stream",
     "text": [
      "請輸入email:p@p.com\n",
      "請輸入密碼:qwerty\n",
      "已驗證(y/n):n\n"
     ]
    }
   ],
   "source": [
    "mail_address = input(\"請輸入email:\")\n",
    "pass_word = input(\"請輸入密碼:\")\n",
    "mail_check = input(\"已驗證(y/n):\")\n",
    "\n",
    "#信箱\n",
    "mail = driver.find_element_by_id('net.ettoday.phone:id/login_email')\n",
    "mail.click()\n",
    "mail.send_keys(mail_address)\n",
    "#密碼\n",
    "pwd = driver.find_element_by_id('net.ettoday.phone:id/login_pwd')\n",
    "pwd.click()\n",
    "pwd.send_keys(pass_word)\n",
    "#登入\n",
    "driver.find_element_by_id('net.ettoday.phone:id/login_button').click()\n",
    "if mail_check == 'n':\n",
    "    driver.find_element_by_id('android:id/button1').click()"
   ]
  },
  {
   "cell_type": "code",
   "execution_count": 17,
   "metadata": {
    "collapsed": true
   },
   "outputs": [],
   "source": [
    "#信箱\n",
    "mail = driver.find_element_by_id('net.ettoday.phone:id/login_email')\n",
    "mail.click()\n",
    "mail.send_keys(\"p@p.com\")\n",
    "#密碼\n",
    "pwd = driver.find_element_by_id('net.ettoday.phone:id/login_pwd')\n",
    "pwd.click()\n",
    "pwd.send_keys(\"qwerty\")\n",
    "#登入\n",
    "driver.find_element_by_id('net.ettoday.phone:id/login_button').click()\n",
    "driver.find_element_by_id('android:id/button1').click()"
   ]
  },
  {
   "cell_type": "code",
   "execution_count": 76,
   "metadata": {
    "collapsed": false
   },
   "outputs": [],
   "source": [
    "sleep(3)\n",
    "driver.find_element_by_xpath('//android.widget.ImageButton[@content-desc=\"向上瀏覽\"]').click()"
   ]
  },
  {
   "cell_type": "code",
   "execution_count": 77,
   "metadata": {
    "collapsed": false
   },
   "outputs": [],
   "source": [
    "driver.quit()"
   ]
  },
  {
   "cell_type": "code",
   "execution_count": null,
   "metadata": {
    "collapsed": true
   },
   "outputs": [],
   "source": []
  }
 ],
 "metadata": {
  "kernelspec": {
   "display_name": "Python 3",
   "language": "python",
   "name": "python3"
  },
  "language_info": {
   "codemirror_mode": {
    "name": "ipython",
    "version": 3
   },
   "file_extension": ".py",
   "mimetype": "text/x-python",
   "name": "python",
   "nbconvert_exporter": "python",
   "pygments_lexer": "ipython3",
   "version": "3.5.2"
  }
 },
 "nbformat": 4,
 "nbformat_minor": 2
}

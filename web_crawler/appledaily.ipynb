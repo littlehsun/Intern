{
 "metadata": {
  "name": "",
  "signature": "sha256:9d364a7af530844acbdd052d44e32076b251625e1aa90d8da98d560019929de6"
 },
 "nbformat": 3,
 "nbformat_minor": 0,
 "worksheets": [
  {
   "cells": [
    {
     "cell_type": "code",
     "collapsed": false,
     "input": [
      "import requests\n",
      "from lxml import html\n",
      "import time\n",
      "import re\n",
      "import unicodedata"
     ],
     "language": "python",
     "metadata": {},
     "outputs": [],
     "prompt_number": 1
    },
    {
     "cell_type": "code",
     "collapsed": false,
     "input": [
      "def content(url2):\n",
      "    if '3c' in url2:\n",
      "        name = re.sub('/','_',url2.split('3c/')[1], flags=re.IGNORECASE)\n",
      "        name = name.split('_')[0] + '_' + name.split('_')[1]        \n",
      "        b = open('3c/' + name + '.txt','w')\n",
      "    elif 'animal' in url2:\n",
      "        name = re.sub('/','_',url2.split('animal/')[1], flags=re.IGNORECASE)\n",
      "        name = name.split('_')[0] + '_' + name.split('_')[1]        \n",
      "        b = open('animal/'+name+'.txt','w')\n",
      "    elif 'entertainment' in url2:\n",
      "        name = re.sub('/','_',url2.split('entertainment/')[1], flags=re.IGNORECASE)\n",
      "        name = name.split('_')[0] + '_' + name.split('_')[1]        \n",
      "        b = open('entertainment/' + name+'.txt','w')\n",
      "    elif 'fashion' in url2:\n",
      "        name = re.sub('/','_',url2.split('fashion/')[1], flags=re.IGNORECASE)\n",
      "        name = name.split('_')[0] + '_' + name.split('_')[1]        \n",
      "        b = open('fashion/' + name+'.txt','w')\n",
      "    elif 'forum' in url2:\n",
      "        name = re.sub('/','_',url2.split('forum/')[1], flags=re.IGNORECASE)\n",
      "        name = name.split('_')[0] + '_' + name.split('_')[1]        \n",
      "        b = open('forum/' + name+'.txt','w')\n",
      "    elif 'fun' in url2:\n",
      "        name = re.sub('/','_',url2.split('fun/')[1], flags=re.IGNORECASE)\n",
      "        name = name.split('_')[0] + '_' + name.split('_')[1]\n",
      "        b = open('fun/' + name+'.txt','w')\n",
      "    elif 'international' in url2:\n",
      "        name = re.sub('/','_',url2.split('international/')[1], flags=re.IGNORECASE)\n",
      "        name = name.split('_')[0] + '_' + name.split('_')[1]        \n",
      "        b = open('international/' + name+'.txt','w')\n",
      "    elif 'life' in url2:\n",
      "        name = re.sub('/','_',url2.split('life/')[1], flags=re.IGNORECASE)\n",
      "        name = name.split('_')[0] + '_' + name.split('_')[1]\n",
      "        b = open('life/'+name+'.txt','w')\n",
      "    elif 'local' in url2:\n",
      "        name = re.sub('/','_',url2.split('local/')[1], flags=re.IGNORECASE)\n",
      "        name = name.split('_')[0] + '_' + name.split('_')[1]\n",
      "        b = open('local/'+name+'.txt','w')\n",
      "    elif 'politics' in url2:\n",
      "        name = re.sub('/','_',url2.split('politics/')[1], flags=re.IGNORECASE)\n",
      "        name = name.split('_')[0] + '_' + name.split('_')[1]\n",
      "        b = open('politics/'+name+'.txt','w')\n",
      "    elif 'sports' in url2:\n",
      "        name = re.sub('/','_',url2.split('sports/')[1], flags=re.IGNORECASE)\n",
      "        name = name.split('_')[0] + '_' + name.split('_')[1]        \n",
      "        b = open('sports/'+name+'.txt','w')\n",
      "    elif 'finance' in url2:\n",
      "        name = re.sub('/','_',url2.split('finance/')[1], flags=re.IGNORECASE)\n",
      "        name = name.split('_')[0] + '_' + name.split('_')[1]        \n",
      "        b = open('finance/'+name+'.txt','w')\n",
      "    elif 'beauty' in url2:\n",
      "        name = re.sub('/','_',url2.split('beauty/')[1], flags=re.IGNORECASE)\n",
      "        name = name.split('_')[0] + '_' + name.split('_')[1]        \n",
      "        b = open('beauty/'+name+'.txt','w')\n",
      "    elif 'property' in url2:\n",
      "        name = re.sub('/','_',url2.split('property/')[1], flags=re.IGNORECASE)\n",
      "        name = name.split('_')[0] + '_' + name.split('_')[1]        \n",
      "        b = open('property/'+name+'.txt','w')\n",
      "    elif 'strange' in url2:\n",
      "        name = re.sub('/','_',url2.split('strange/')[1], flags=re.IGNORECASE)\n",
      "        name = name.split('_')[0] + '_' + name.split('_')[1]        \n",
      "        b = open('strange/'+name+'.txt','w')\n",
      "    else:\n",
      "        print url2\n",
      "\n",
      "    page = requests.get(url2)\n",
      "    tree2 = html.fromstring(page.text)\n",
      "    a = ''\n",
      "    for i in tree2.xpath('//div[@class=\"gggs\"]/time/text()'):\n",
      "        str1 = str(i.encode('utf-8'))\n",
      "        a = a + str1 + '\\n'\n",
      "    for i in tree2.xpath('//p[@id=\"summary\"]/text()'):\n",
      "        str1 = str(i.encode('utf-8'))\n",
      "        a = a + str1\n",
      "    b.write(a)\n",
      "    b.close()"
     ],
     "language": "python",
     "metadata": {},
     "outputs": [],
     "prompt_number": 2
    },
    {
     "cell_type": "code",
     "collapsed": false,
     "input": [
      "def timer1(t):\n",
      "    count = 0\n",
      "    looper = 500\n",
      "    while(looper != 0):\n",
      "        count = count +1\n",
      "        print '**************'+str(count)+'*************'\n",
      "        getcontent()\n",
      "        time.sleep(t)"
     ],
     "language": "python",
     "metadata": {},
     "outputs": [],
     "prompt_number": 3
    },
    {
     "cell_type": "code",
     "collapsed": false,
     "input": [
      "def getcontent():\n",
      "    url = 'http://www.appledaily.com.tw/realtimenews/section/new/'\n",
      "    page = requests.get(url)\n",
      "    tree = html.fromstring(page.text)\n",
      "    \n",
      "    for i in tree.xpath('//ul[@class=\"rtddd slvl\"]/li'):\n",
      "        for j in i:\n",
      "            url2 = str(u'http://www.appledaily.com.tw'+unicodedata.normalize('NFD', j.get('href')).encode('ascii','ignore'))  \n",
      "            content(url2)\n"
     ],
     "language": "python",
     "metadata": {},
     "outputs": [],
     "prompt_number": 4
    },
    {
     "cell_type": "code",
     "collapsed": false,
     "input": [
      "timer1(120)"
     ],
     "language": "python",
     "metadata": {},
     "outputs": [
      {
       "output_type": "stream",
       "stream": "stdout",
       "text": [
        "**************1*************\n"
       ]
      },
      {
       "ename": "IOError",
       "evalue": "[Errno 2] No such file or directory: 'politics/20150118_544162.txt'",
       "output_type": "pyerr",
       "traceback": [
        "\u001b[1;31m---------------------------------------------------------------------------\u001b[0m\n\u001b[1;31mIOError\u001b[0m                                   Traceback (most recent call last)",
        "\u001b[1;32m<ipython-input-7-0870700173dd>\u001b[0m in \u001b[0;36m<module>\u001b[1;34m()\u001b[0m\n\u001b[1;32m----> 1\u001b[1;33m \u001b[0mtimer1\u001b[0m\u001b[1;33m(\u001b[0m\u001b[1;36m120\u001b[0m\u001b[1;33m)\u001b[0m\u001b[1;33m\u001b[0m\u001b[0m\n\u001b[0m",
        "\u001b[1;32m<ipython-input-3-3f0a350cfdad>\u001b[0m in \u001b[0;36mtimer1\u001b[1;34m(t)\u001b[0m\n\u001b[0;32m      5\u001b[0m         \u001b[0mcount\u001b[0m \u001b[1;33m=\u001b[0m \u001b[0mcount\u001b[0m \u001b[1;33m+\u001b[0m\u001b[1;36m1\u001b[0m\u001b[1;33m\u001b[0m\u001b[0m\n\u001b[0;32m      6\u001b[0m         \u001b[1;32mprint\u001b[0m \u001b[1;34m'**************'\u001b[0m\u001b[1;33m+\u001b[0m\u001b[0mstr\u001b[0m\u001b[1;33m(\u001b[0m\u001b[0mcount\u001b[0m\u001b[1;33m)\u001b[0m\u001b[1;33m+\u001b[0m\u001b[1;34m'*************'\u001b[0m\u001b[1;33m\u001b[0m\u001b[0m\n\u001b[1;32m----> 7\u001b[1;33m         \u001b[0mgetcontent\u001b[0m\u001b[1;33m(\u001b[0m\u001b[1;33m)\u001b[0m\u001b[1;33m\u001b[0m\u001b[0m\n\u001b[0m\u001b[0;32m      8\u001b[0m         \u001b[0mtime\u001b[0m\u001b[1;33m.\u001b[0m\u001b[0msleep\u001b[0m\u001b[1;33m(\u001b[0m\u001b[0mt\u001b[0m\u001b[1;33m)\u001b[0m\u001b[1;33m\u001b[0m\u001b[0m\n",
        "\u001b[1;32m<ipython-input-4-0911d509a286>\u001b[0m in \u001b[0;36mgetcontent\u001b[1;34m()\u001b[0m\n\u001b[0;32m      7\u001b[0m         \u001b[1;32mfor\u001b[0m \u001b[0mj\u001b[0m \u001b[1;32min\u001b[0m \u001b[0mi\u001b[0m\u001b[1;33m:\u001b[0m\u001b[1;33m\u001b[0m\u001b[0m\n\u001b[0;32m      8\u001b[0m             \u001b[0murl2\u001b[0m \u001b[1;33m=\u001b[0m \u001b[0mstr\u001b[0m\u001b[1;33m(\u001b[0m\u001b[1;34mu'http://www.appledaily.com.tw'\u001b[0m\u001b[1;33m+\u001b[0m\u001b[0municodedata\u001b[0m\u001b[1;33m.\u001b[0m\u001b[0mnormalize\u001b[0m\u001b[1;33m(\u001b[0m\u001b[1;34m'NFD'\u001b[0m\u001b[1;33m,\u001b[0m \u001b[0mj\u001b[0m\u001b[1;33m.\u001b[0m\u001b[0mget\u001b[0m\u001b[1;33m(\u001b[0m\u001b[1;34m'href'\u001b[0m\u001b[1;33m)\u001b[0m\u001b[1;33m)\u001b[0m\u001b[1;33m.\u001b[0m\u001b[0mencode\u001b[0m\u001b[1;33m(\u001b[0m\u001b[1;34m'ascii'\u001b[0m\u001b[1;33m,\u001b[0m\u001b[1;34m'ignore'\u001b[0m\u001b[1;33m)\u001b[0m\u001b[1;33m)\u001b[0m\u001b[1;33m\u001b[0m\u001b[0m\n\u001b[1;32m----> 9\u001b[1;33m             \u001b[0mcontent\u001b[0m\u001b[1;33m(\u001b[0m\u001b[0murl2\u001b[0m\u001b[1;33m)\u001b[0m\u001b[1;33m\u001b[0m\u001b[0m\n\u001b[0m",
        "\u001b[1;32m<ipython-input-2-61175b357156>\u001b[0m in \u001b[0;36mcontent\u001b[1;34m(url2)\u001b[0m\n\u001b[0;32m     39\u001b[0m         \u001b[0mname\u001b[0m \u001b[1;33m=\u001b[0m \u001b[0mre\u001b[0m\u001b[1;33m.\u001b[0m\u001b[0msub\u001b[0m\u001b[1;33m(\u001b[0m\u001b[1;34m'/'\u001b[0m\u001b[1;33m,\u001b[0m\u001b[1;34m'_'\u001b[0m\u001b[1;33m,\u001b[0m\u001b[0murl2\u001b[0m\u001b[1;33m.\u001b[0m\u001b[0msplit\u001b[0m\u001b[1;33m(\u001b[0m\u001b[1;34m'politics/'\u001b[0m\u001b[1;33m)\u001b[0m\u001b[1;33m[\u001b[0m\u001b[1;36m1\u001b[0m\u001b[1;33m]\u001b[0m\u001b[1;33m,\u001b[0m \u001b[0mflags\u001b[0m\u001b[1;33m=\u001b[0m\u001b[0mre\u001b[0m\u001b[1;33m.\u001b[0m\u001b[0mIGNORECASE\u001b[0m\u001b[1;33m)\u001b[0m\u001b[1;33m\u001b[0m\u001b[0m\n\u001b[0;32m     40\u001b[0m         \u001b[0mname\u001b[0m \u001b[1;33m=\u001b[0m \u001b[0mname\u001b[0m\u001b[1;33m.\u001b[0m\u001b[0msplit\u001b[0m\u001b[1;33m(\u001b[0m\u001b[1;34m'_'\u001b[0m\u001b[1;33m)\u001b[0m\u001b[1;33m[\u001b[0m\u001b[1;36m0\u001b[0m\u001b[1;33m]\u001b[0m \u001b[1;33m+\u001b[0m \u001b[1;34m'_'\u001b[0m \u001b[1;33m+\u001b[0m \u001b[0mname\u001b[0m\u001b[1;33m.\u001b[0m\u001b[0msplit\u001b[0m\u001b[1;33m(\u001b[0m\u001b[1;34m'_'\u001b[0m\u001b[1;33m)\u001b[0m\u001b[1;33m[\u001b[0m\u001b[1;36m1\u001b[0m\u001b[1;33m]\u001b[0m\u001b[1;33m\u001b[0m\u001b[0m\n\u001b[1;32m---> 41\u001b[1;33m         \u001b[0mb\u001b[0m \u001b[1;33m=\u001b[0m \u001b[0mopen\u001b[0m\u001b[1;33m(\u001b[0m\u001b[1;34m'politics/'\u001b[0m\u001b[1;33m+\u001b[0m\u001b[0mname\u001b[0m\u001b[1;33m+\u001b[0m\u001b[1;34m'.txt'\u001b[0m\u001b[1;33m,\u001b[0m\u001b[1;34m'w'\u001b[0m\u001b[1;33m)\u001b[0m\u001b[1;33m\u001b[0m\u001b[0m\n\u001b[0m\u001b[0;32m     42\u001b[0m     \u001b[1;32melif\u001b[0m \u001b[1;34m'sports'\u001b[0m \u001b[1;32min\u001b[0m \u001b[0murl2\u001b[0m\u001b[1;33m:\u001b[0m\u001b[1;33m\u001b[0m\u001b[0m\n\u001b[0;32m     43\u001b[0m         \u001b[0mname\u001b[0m \u001b[1;33m=\u001b[0m \u001b[0mre\u001b[0m\u001b[1;33m.\u001b[0m\u001b[0msub\u001b[0m\u001b[1;33m(\u001b[0m\u001b[1;34m'/'\u001b[0m\u001b[1;33m,\u001b[0m\u001b[1;34m'_'\u001b[0m\u001b[1;33m,\u001b[0m\u001b[0murl2\u001b[0m\u001b[1;33m.\u001b[0m\u001b[0msplit\u001b[0m\u001b[1;33m(\u001b[0m\u001b[1;34m'sports/'\u001b[0m\u001b[1;33m)\u001b[0m\u001b[1;33m[\u001b[0m\u001b[1;36m1\u001b[0m\u001b[1;33m]\u001b[0m\u001b[1;33m,\u001b[0m \u001b[0mflags\u001b[0m\u001b[1;33m=\u001b[0m\u001b[0mre\u001b[0m\u001b[1;33m.\u001b[0m\u001b[0mIGNORECASE\u001b[0m\u001b[1;33m)\u001b[0m\u001b[1;33m\u001b[0m\u001b[0m\n",
        "\u001b[1;31mIOError\u001b[0m: [Errno 2] No such file or directory: 'politics/20150118_544162.txt'"
       ]
      }
     ],
     "prompt_number": 7
    },
    {
     "cell_type": "code",
     "collapsed": false,
     "input": [],
     "language": "python",
     "metadata": {},
     "outputs": []
    }
   ],
   "metadata": {}
  }
 ]
}
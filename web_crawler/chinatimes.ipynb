{
 "metadata": {
  "name": "",
  "signature": "sha256:7c98dbc9f85a38b7e72b0b62a921437d101db7828eb4446519510ec40589b776"
 },
 "nbformat": 3,
 "nbformat_minor": 0,
 "worksheets": [
  {
   "cells": [
    {
     "cell_type": "code",
     "collapsed": false,
     "input": [
      "import requests\n",
      "from lxml import html\n",
      "import time\n",
      "import re\n",
      "import unicodedata"
     ],
     "language": "python",
     "metadata": {},
     "outputs": [],
     "prompt_number": 1
    },
    {
     "cell_type": "code",
     "collapsed": false,
     "input": [
      "def content(url2):\n",
      "    if '260401' in url2:\n",
      "        b = open('News_260401/' + url2.split('-')[0].split('/')[4] + '.txt','w')\n",
      "    elif '260402' in url2:\n",
      "        b = open('News_260402/' + url2.split('-')[0].split('/')[4] + '.txt','w')\n",
      "    elif '260403' in url2:\n",
      "        b = open('News_260403/' + url2.split('-')[0].split('/')[4] + '.txt','w')\n",
      "    elif '260404' in url2:\n",
      "        b = open('News_260404/' + url2.split('-')[0].split('/')[4] + '.txt','w')\n",
      "    elif '260405' in url2:\n",
      "        b = open('News_260405/' + url2.split('-')[0].split('/')[4] + '.txt','w')\n",
      "    elif '260406' in url2:\n",
      "        b = open('News_260406/' + url2.split('-')[0].split('/')[4] + '.txt','w')\n",
      "    elif '260407' in url2:\n",
      "        b = open('News_260407/' + url2.split('-')[0].split('/')[4] + '.txt','w')\n",
      "    elif '260408' in url2:\n",
      "        b = open('News_260408/' + url2.split('-')[0].split('/')[4] + '.txt','w')\n",
      "    elif '260409' in url2:\n",
      "        b = open('News_260409/' + url2.split('-')[0].split('/')[4] + '.txt','w')\n",
      "    elif '260410' in url2:\n",
      "        b = open('News_260410/' + url2.split('-')[0].split('/')[4] + '.txt','w')\n",
      "    elif '260412' in url2:\n",
      "        b = open('News_260411/' + url2.split('-')[0].split('/')[4] + '.txt','w')\n",
      "    elif 'others' in url2:\n",
      "        b = open('News_260412/' + url2.split('-')[0].split('/')[4] + '.txt','w')\n",
      "    else:\n",
      "        print url2\n",
      "\n",
      "    page = requests.get(url2)\n",
      "    tree2 = html.fromstring(page.text)\n",
      "    a = ''\n",
      "    for i in tree2.xpath('//div[@class=\"reporter\"]/time/text()'):\n",
      "        str1 = str(i.encode('utf-8'))\n",
      "        a = a + str1 + '\\n'\n",
      "    for i in tree2.xpath('//article[@class=\"clear-fix\"]/p/text()'):\n",
      "        str1 = str(i.encode('utf-8'))\n",
      "        a = a + str1\n",
      "    b.write(a)\n",
      "    b.close()"
     ],
     "language": "python",
     "metadata": {},
     "outputs": [],
     "prompt_number": 6
    },
    {
     "cell_type": "code",
     "collapsed": false,
     "input": [
      "def getcontent():\n",
      "    url = 'http://www.chinatimes.com/realtimenews/'\n",
      "    page = requests.get(url)\n",
      "    tree = html.fromstring(page.text)\n",
      "    \n",
      "    for i in tree.xpath('//div[@class=\"listRight\"]/ul/li/h2'):\n",
      "        for j in i:\n",
      "            url2 = str(u'http://www.chinatimes.com'+j.get('href')) \n",
      "            content(url2)"
     ],
     "language": "python",
     "metadata": {},
     "outputs": [],
     "prompt_number": 7
    },
    {
     "cell_type": "code",
     "collapsed": false,
     "input": [
      "def timer1(t):\n",
      "    count = 0\n",
      "    looper = 500\n",
      "    while(looper != 0):\n",
      "        count = count +1\n",
      "        print '**************'+str(count)+'*************'\n",
      "        getcontent()\n",
      "        time.sleep(t)"
     ],
     "language": "python",
     "metadata": {},
     "outputs": [],
     "prompt_number": 8
    },
    {
     "cell_type": "code",
     "collapsed": false,
     "input": [
      "timer1(120)"
     ],
     "language": "python",
     "metadata": {},
     "outputs": [
      {
       "output_type": "stream",
       "stream": "stdout",
       "text": [
        "**************1*************\n",
        "**************2*************"
       ]
      }
     ]
    },
    {
     "cell_type": "code",
     "collapsed": false,
     "input": [],
     "language": "python",
     "metadata": {},
     "outputs": []
    }
   ],
   "metadata": {}
  }
 ]
}